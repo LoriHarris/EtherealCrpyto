{
 "cells": [
  {
   "cell_type": "code",
   "execution_count": 1,
   "metadata": {},
   "outputs": [],
   "source": [
    "# Initial imports\n",
    "import pandas as pd\n",
    "from path import Path\n",
    "from sklearn import tree\n",
    "from sklearn.preprocessing import StandardScaler\n",
    "from sklearn.decomposition import PCA\n",
    "from sklearn.model_selection import train_test_split\n",
    "from sklearn.metrics import confusion_matrix\n",
    "# from sklearn.metrics import score\n",
    "from sklearn.metrics import classification_report\n",
    "from sklearn.ensemble import GradientBoostingRegressor\n",
    "from datetime import datetime, timedelta\n",
    "import seaborn as sns\n",
    "import matplotlib.pyplot as plt\n",
    "\n",
    "# Needed for decision tree visualization\n",
    "import pydotplus\n",
    "from IPython.display import Image"
   ]
  },
  {
   "cell_type": "code",
   "execution_count": 2,
   "metadata": {},
   "outputs": [],
   "source": [
    "df = pd.read_csv('etc.csv',parse_dates=True, index_col=('date'))\n",
    "df.dropna(inplace=True)\n",
    "df.rename(columns={'date':'Date','PriceUSD':'Close'}, inplace=True)\n",
    "futures = df.tail()\n",
    "\n",
    "df1 = df[['High','FeeMedUSD','TxTfrValMedUSD','Close','IssTotUSD','VtyDayRet30d']]\n",
    "futures1 = df1.tail()\n",
    "\n",
    "df2 = df[['High','FeeMedUSD','TxTfrValMedUSD','Close','IssTotUSD','VtyDayRet30d','TxTfrValMeanNtv']]\n",
    "futures2 = df2.tail()\n"
   ]
  },
  {
   "cell_type": "code",
   "execution_count": 3,
   "metadata": {},
   "outputs": [],
   "source": [
    "# df.Close.head()"
   ]
  },
  {
   "cell_type": "code",
   "execution_count": 4,
   "metadata": {},
   "outputs": [
    {
     "data": {
      "text/plain": [
       "date\n",
       "2019-11-06    5.17\n",
       "2019-11-07    5.30\n",
       "2019-11-08    5.29\n",
       "2019-11-09    5.05\n",
       "2019-11-10    5.09\n",
       "Name: High, dtype: float64"
      ]
     },
     "execution_count": 4,
     "metadata": {},
     "output_type": "execute_result"
    }
   ],
   "source": [
    "# df = df[:-3]\n",
    "df.High.tail()"
   ]
  },
  {
   "cell_type": "code",
   "execution_count": 5,
   "metadata": {},
   "outputs": [
    {
     "data": {
      "text/plain": [
       "array([[14.41],\n",
       "       [14.14],\n",
       "       [14.69],\n",
       "       [15.11],\n",
       "       [15.48]])"
      ]
     },
     "execution_count": 5,
     "metadata": {},
     "output_type": "execute_result"
    }
   ],
   "source": [
    "#Model0\n",
    "X=df[:-5].copy()\n",
    "X.head()\n",
    "y = df[\"High\"][5:].values.reshape(-1, 1)\n",
    "y[:5]\n",
    "#Model1\n",
    "X1=df1[:-5].copy()\n",
    "X1=X1[['FeeMedUSD','TxTfrValMedUSD','Close','IssTotUSD','VtyDayRet30d']]\n",
    "y1 = df1[\"High\"][5:].values.reshape(-1, 1)\n",
    "y1[:5]\n",
    "#Model2\n",
    "X2=df2[:-5].copy()\n",
    "X2=X2[['FeeMedUSD','TxTfrValMedUSD','IssTotUSD','VtyDayRet30d','TxTfrValMeanNtv']]\n",
    "y2 = df2[\"High\"][5:].values.reshape(-1, 1)\n",
    "y2[:5]"
   ]
  },
  {
   "cell_type": "code",
   "execution_count": 6,
   "metadata": {},
   "outputs": [
    {
     "data": {
      "text/html": [
       "<div>\n",
       "<style scoped>\n",
       "    .dataframe tbody tr th:only-of-type {\n",
       "        vertical-align: middle;\n",
       "    }\n",
       "\n",
       "    .dataframe tbody tr th {\n",
       "        vertical-align: top;\n",
       "    }\n",
       "\n",
       "    .dataframe thead th {\n",
       "        text-align: right;\n",
       "    }\n",
       "</style>\n",
       "<table border=\"1\" class=\"dataframe\">\n",
       "  <thead>\n",
       "    <tr style=\"text-align: right;\">\n",
       "      <th></th>\n",
       "      <th>AdrActCnt</th>\n",
       "      <th>BlkCnt</th>\n",
       "      <th>BlkSizeByte</th>\n",
       "      <th>BlkSizeMeanByte</th>\n",
       "      <th>CapMrktCurUSD</th>\n",
       "      <th>DiffMean</th>\n",
       "      <th>FeeMeanNtv</th>\n",
       "      <th>FeeMeanUSD</th>\n",
       "      <th>FeeMedNtv</th>\n",
       "      <th>FeeMedUSD</th>\n",
       "      <th>...</th>\n",
       "      <th>TxTfrValMeanUSD</th>\n",
       "      <th>TxTfrValMedNtv</th>\n",
       "      <th>TxTfrValMedUSD</th>\n",
       "      <th>TxTfrValNtv</th>\n",
       "      <th>TxTfrValUSD</th>\n",
       "      <th>VtyDayRet180d</th>\n",
       "      <th>VtyDayRet30d</th>\n",
       "      <th>VtyDayRet60d</th>\n",
       "      <th>High</th>\n",
       "      <th>Low</th>\n",
       "    </tr>\n",
       "    <tr>\n",
       "      <th>date</th>\n",
       "      <th></th>\n",
       "      <th></th>\n",
       "      <th></th>\n",
       "      <th></th>\n",
       "      <th></th>\n",
       "      <th></th>\n",
       "      <th></th>\n",
       "      <th></th>\n",
       "      <th></th>\n",
       "      <th></th>\n",
       "      <th></th>\n",
       "      <th></th>\n",
       "      <th></th>\n",
       "      <th></th>\n",
       "      <th></th>\n",
       "      <th></th>\n",
       "      <th></th>\n",
       "      <th></th>\n",
       "      <th></th>\n",
       "      <th></th>\n",
       "      <th></th>\n",
       "    </tr>\n",
       "  </thead>\n",
       "  <tbody>\n",
       "    <tr>\n",
       "      <th>2019-11-01</th>\n",
       "      <td>463640</td>\n",
       "      <td>6657</td>\n",
       "      <td>10232466</td>\n",
       "      <td>1537.098693</td>\n",
       "      <td>560790095.2</td>\n",
       "      <td>1.240000e+14</td>\n",
       "      <td>0.000177</td>\n",
       "      <td>0.000864</td>\n",
       "      <td>0.000021</td>\n",
       "      <td>0.000102</td>\n",
       "      <td>...</td>\n",
       "      <td>154.557973</td>\n",
       "      <td>0.999252</td>\n",
       "      <td>4.875223</td>\n",
       "      <td>1.111490e+06</td>\n",
       "      <td>5422821.047</td>\n",
       "      <td>0.048307</td>\n",
       "      <td>0.037313</td>\n",
       "      <td>0.040112</td>\n",
       "      <td>4.96</td>\n",
       "      <td>4.82</td>\n",
       "    </tr>\n",
       "    <tr>\n",
       "      <th>2019-11-02</th>\n",
       "      <td>480938</td>\n",
       "      <td>6623</td>\n",
       "      <td>10109872</td>\n",
       "      <td>1526.479239</td>\n",
       "      <td>566530039.0</td>\n",
       "      <td>1.290000e+14</td>\n",
       "      <td>0.000175</td>\n",
       "      <td>0.000864</td>\n",
       "      <td>0.000021</td>\n",
       "      <td>0.000103</td>\n",
       "      <td>...</td>\n",
       "      <td>93.351351</td>\n",
       "      <td>0.998957</td>\n",
       "      <td>4.922534</td>\n",
       "      <td>6.346154e+05</td>\n",
       "      <td>3127176.919</td>\n",
       "      <td>0.048310</td>\n",
       "      <td>0.037269</td>\n",
       "      <td>0.040114</td>\n",
       "      <td>5.02</td>\n",
       "      <td>4.85</td>\n",
       "    </tr>\n",
       "    <tr>\n",
       "      <th>2019-11-03</th>\n",
       "      <td>487123</td>\n",
       "      <td>6626</td>\n",
       "      <td>10060597</td>\n",
       "      <td>1518.351494</td>\n",
       "      <td>561770693.1</td>\n",
       "      <td>1.260000e+14</td>\n",
       "      <td>0.000162</td>\n",
       "      <td>0.000791</td>\n",
       "      <td>0.000021</td>\n",
       "      <td>0.000103</td>\n",
       "      <td>...</td>\n",
       "      <td>75.767189</td>\n",
       "      <td>0.998896</td>\n",
       "      <td>4.879751</td>\n",
       "      <td>5.223359e+05</td>\n",
       "      <td>2551687.399</td>\n",
       "      <td>0.048313</td>\n",
       "      <td>0.037288</td>\n",
       "      <td>0.040113</td>\n",
       "      <td>5.01</td>\n",
       "      <td>4.85</td>\n",
       "    </tr>\n",
       "    <tr>\n",
       "      <th>2019-11-04</th>\n",
       "      <td>456285</td>\n",
       "      <td>6492</td>\n",
       "      <td>10046189</td>\n",
       "      <td>1547.472120</td>\n",
       "      <td>570484726.5</td>\n",
       "      <td>1.250000e+14</td>\n",
       "      <td>0.000184</td>\n",
       "      <td>0.000911</td>\n",
       "      <td>0.000021</td>\n",
       "      <td>0.000104</td>\n",
       "      <td>...</td>\n",
       "      <td>94.442132</td>\n",
       "      <td>0.999549</td>\n",
       "      <td>4.957563</td>\n",
       "      <td>6.564563e+05</td>\n",
       "      <td>3255892.489</td>\n",
       "      <td>0.048322</td>\n",
       "      <td>0.037364</td>\n",
       "      <td>0.039646</td>\n",
       "      <td>4.99</td>\n",
       "      <td>4.88</td>\n",
       "    </tr>\n",
       "    <tr>\n",
       "      <th>2019-11-05</th>\n",
       "      <td>450544</td>\n",
       "      <td>6560</td>\n",
       "      <td>10060327</td>\n",
       "      <td>1533.586433</td>\n",
       "      <td>577760237.2</td>\n",
       "      <td>1.230000e+14</td>\n",
       "      <td>0.000179</td>\n",
       "      <td>0.000898</td>\n",
       "      <td>0.000021</td>\n",
       "      <td>0.000105</td>\n",
       "      <td>...</td>\n",
       "      <td>120.393431</td>\n",
       "      <td>0.999342</td>\n",
       "      <td>5.018602</td>\n",
       "      <td>8.351223e+05</td>\n",
       "      <td>4193905.185</td>\n",
       "      <td>0.048304</td>\n",
       "      <td>0.036883</td>\n",
       "      <td>0.039343</td>\n",
       "      <td>5.09</td>\n",
       "      <td>4.90</td>\n",
       "    </tr>\n",
       "  </tbody>\n",
       "</table>\n",
       "<p>5 rows × 39 columns</p>\n",
       "</div>"
      ],
      "text/plain": [
       "            AdrActCnt  BlkCnt  BlkSizeByte  BlkSizeMeanByte  CapMrktCurUSD  \\\n",
       "date                                                                         \n",
       "2019-11-01     463640    6657     10232466      1537.098693    560790095.2   \n",
       "2019-11-02     480938    6623     10109872      1526.479239    566530039.0   \n",
       "2019-11-03     487123    6626     10060597      1518.351494    561770693.1   \n",
       "2019-11-04     456285    6492     10046189      1547.472120    570484726.5   \n",
       "2019-11-05     450544    6560     10060327      1533.586433    577760237.2   \n",
       "\n",
       "                DiffMean  FeeMeanNtv  FeeMeanUSD  FeeMedNtv  FeeMedUSD  ...  \\\n",
       "date                                                                    ...   \n",
       "2019-11-01  1.240000e+14    0.000177    0.000864   0.000021   0.000102  ...   \n",
       "2019-11-02  1.290000e+14    0.000175    0.000864   0.000021   0.000103  ...   \n",
       "2019-11-03  1.260000e+14    0.000162    0.000791   0.000021   0.000103  ...   \n",
       "2019-11-04  1.250000e+14    0.000184    0.000911   0.000021   0.000104  ...   \n",
       "2019-11-05  1.230000e+14    0.000179    0.000898   0.000021   0.000105  ...   \n",
       "\n",
       "            TxTfrValMeanUSD  TxTfrValMedNtv  TxTfrValMedUSD   TxTfrValNtv  \\\n",
       "date                                                                        \n",
       "2019-11-01       154.557973        0.999252        4.875223  1.111490e+06   \n",
       "2019-11-02        93.351351        0.998957        4.922534  6.346154e+05   \n",
       "2019-11-03        75.767189        0.998896        4.879751  5.223359e+05   \n",
       "2019-11-04        94.442132        0.999549        4.957563  6.564563e+05   \n",
       "2019-11-05       120.393431        0.999342        5.018602  8.351223e+05   \n",
       "\n",
       "            TxTfrValUSD  VtyDayRet180d  VtyDayRet30d  VtyDayRet60d  High   Low  \n",
       "date                                                                            \n",
       "2019-11-01  5422821.047       0.048307      0.037313      0.040112  4.96  4.82  \n",
       "2019-11-02  3127176.919       0.048310      0.037269      0.040114  5.02  4.85  \n",
       "2019-11-03  2551687.399       0.048313      0.037288      0.040113  5.01  4.85  \n",
       "2019-11-04  3255892.489       0.048322      0.037364      0.039646  4.99  4.88  \n",
       "2019-11-05  4193905.185       0.048304      0.036883      0.039343  5.09  4.90  \n",
       "\n",
       "[5 rows x 39 columns]"
      ]
     },
     "execution_count": 6,
     "metadata": {},
     "output_type": "execute_result"
    }
   ],
   "source": [
    "X.tail()"
   ]
  },
  {
   "cell_type": "code",
   "execution_count": null,
   "metadata": {},
   "outputs": [],
   "source": []
  },
  {
   "cell_type": "code",
   "execution_count": null,
   "metadata": {},
   "outputs": [],
   "source": []
  },
  {
   "cell_type": "code",
   "execution_count": 7,
   "metadata": {},
   "outputs": [],
   "source": [
    "X_train, X_test, y_train, y_test = train_test_split(X, y, random_state=8)\n",
    "X_train1, X_test1, y_train1, y_test1 = train_test_split(X1, y1, random_state=8)\n",
    "X_train2, X_test2, y_train2, y_test2 = train_test_split(X2, y2, random_state=8)"
   ]
  },
  {
   "cell_type": "code",
   "execution_count": 8,
   "metadata": {},
   "outputs": [],
   "source": [
    "# Scale the training data\n",
    "scaler = StandardScaler()\n",
    "scaler1=StandardScaler()\n",
    "scaler2=StandardScaler()\n",
    "#Model0\n",
    "X_scaler = scaler.fit(X_train)\n",
    "X_train_scaled = X_scaler.transform(X_train)\n",
    "X_test_scaled = X_scaler.transform(X_test)\n",
    "#model1\n",
    "X_scaler1 = scaler1.fit(X_train1)\n",
    "X_train_scaled1 = X_scaler1.transform(X_train1)\n",
    "X_test_scaled1 = X_scaler1.transform(X_test1)\n",
    "#model2\n",
    "X_scaler2 = scaler2.fit(X_train2)\n",
    "X_train_scaled2 = X_scaler2.transform(X_train2)\n",
    "X_test_scaled2 = X_scaler2.transform(X_test2)"
   ]
  },
  {
   "cell_type": "code",
   "execution_count": 9,
   "metadata": {},
   "outputs": [
    {
     "name": "stdout",
     "output_type": "stream",
     "text": [
      "Learning rate:  0.05\n",
      "Accuracy score (training): 0.976\n",
      "Accuracy score (validation): 0.963\n",
      "\n",
      "Learning rate:  0.1\n",
      "Accuracy score (training): 0.988\n",
      "Accuracy score (validation): 0.965\n",
      "\n",
      "Learning rate:  0.25\n",
      "Accuracy score (training): 0.996\n",
      "Accuracy score (validation): 0.961\n",
      "\n",
      "Learning rate:  0.5\n",
      "Accuracy score (training): 0.999\n",
      "Accuracy score (validation): 0.959\n",
      "\n",
      "Learning rate:  0.75\n",
      "Accuracy score (training): 0.999\n",
      "Accuracy score (validation): 0.919\n",
      "\n",
      "Learning rate:  1\n",
      "Accuracy score (training): 1.000\n",
      "Accuracy score (validation): 0.884\n",
      "\n"
     ]
    }
   ],
   "source": [
    "# Choose learning rate\n",
    "learning_rates = [0.05, 0.1, 0.25, 0.5, 0.75, 1]\n",
    "for learning_rate in learning_rates:\n",
    "    model = GradientBoostingRegressor(\n",
    "        n_estimators=100,\n",
    "        learning_rate=learning_rate,\n",
    "        max_features=2,\n",
    "        max_depth=3,\n",
    "        random_state=0)\n",
    "    model.fit(X_train_scaled,y_train.ravel())\n",
    "    print(\"Learning rate: \", learning_rate)\n",
    "\n",
    "    # Score the model\n",
    "    print(\"Accuracy score (training): {0:.3f}\".format(\n",
    "        model.score(\n",
    "            X_train_scaled,\n",
    "            y_train.ravel())))\n",
    "    print(\"Accuracy score (validation): {0:.3f}\".format(\n",
    "        model.score(\n",
    "            X_test_scaled,\n",
    "            y_test.ravel())))\n",
    "    print()"
   ]
  },
  {
   "cell_type": "code",
   "execution_count": 10,
   "metadata": {},
   "outputs": [
    {
     "name": "stdout",
     "output_type": "stream",
     "text": [
      "Accuracy score (training): 1.000\n",
      "Accuracy score (validation): 0.977\n"
     ]
    }
   ],
   "source": [
    "# Create GradientBoostingClassifier model\n",
    "#Changed from .75 to .25 11/8\n",
    "#on 11/8 .75 gave an accuracy score of .929\n",
    "#model0\n",
    "model = GradientBoostingRegressor(\n",
    "    n_estimators=500,\n",
    "    learning_rate=.15,\n",
    "    max_features=5,\n",
    "    max_depth=3,\n",
    "    random_state=0)\n",
    "\n",
    "# Fit the model\n",
    "model.fit(X_train_scaled,y_train.ravel())\n",
    "\n",
    "# Score the model\n",
    "print(\"Accuracy score (training): {0:.3f}\".format(\n",
    "    model.score(\n",
    "        X_train_scaled,\n",
    "        y_train)))\n",
    "print(\"Accuracy score (validation): {0:.3f}\".format(\n",
    "    model.score(\n",
    "        X_test_scaled,\n",
    "        y_test)))"
   ]
  },
  {
   "cell_type": "code",
   "execution_count": 11,
   "metadata": {},
   "outputs": [
    {
     "name": "stdout",
     "output_type": "stream",
     "text": [
      "Accuracy score (training): 0.994\n",
      "Accuracy score (validation): 0.969\n"
     ]
    }
   ],
   "source": [
    "#model1 - [['FeeMedUSD','TxTfrValMedUSD','Close','IssTotUSD','VtyDayRet30d']]\n",
    "# Create GradientBoostingClassifier model\n",
    "#Changed from 1 to .05 11/8\n",
    "#on 11/8 1 gave an accuracy score of .911\n",
    "model1 = GradientBoostingRegressor(\n",
    "    n_estimators=500,\n",
    "    learning_rate=.05,\n",
    "    max_features=5,\n",
    "    max_depth=3,\n",
    "    random_state=0)\n",
    "\n",
    "# Fit the model\n",
    "model1.fit(X_train_scaled1,y_train1.ravel())\n",
    "\n",
    "# Score the model\n",
    "print(\"Accuracy score (training): {0:.3f}\".format(\n",
    "    model1.score(\n",
    "        X_train_scaled1,\n",
    "        y_train1)))\n",
    "print(\"Accuracy score (validation): {0:.3f}\".format(\n",
    "    model1.score(\n",
    "        X_test_scaled1,\n",
    "        y_test1)))"
   ]
  },
  {
   "cell_type": "code",
   "execution_count": 12,
   "metadata": {},
   "outputs": [
    {
     "name": "stdout",
     "output_type": "stream",
     "text": [
      "Accuracy score (training): 0.995\n",
      "Accuracy score (validation): 0.967\n"
     ]
    }
   ],
   "source": [
    "#model2 - [['FeeMedUSD','TxTfrValMedUSD','IssTotUSD','VtyDayRet30d','TxTfrValMeanNtv']]\n",
    "#Changed from .1 to .05 11/8\n",
    "#on 11/8 .1 gave an accuracy score of .938\n",
    "model2 = GradientBoostingRegressor(\n",
    "    n_estimators=500,\n",
    "    learning_rate=.05,\n",
    "    max_features=5,\n",
    "    max_depth=3,\n",
    "    random_state=0)\n",
    "\n",
    "# Fit the model\n",
    "model2.fit(X_train_scaled2,y_train2.ravel())\n",
    "\n",
    "# Score the model\n",
    "print(\"Accuracy score (training): {0:.3f}\".format(\n",
    "    model2.score(\n",
    "        X_train_scaled2,\n",
    "        y_train2)))\n",
    "print(\"Accuracy score (validation): {0:.3f}\".format(\n",
    "    model2.score(\n",
    "        X_test_scaled2,\n",
    "        y_test2)))"
   ]
  },
  {
   "cell_type": "code",
   "execution_count": 13,
   "metadata": {},
   "outputs": [],
   "source": [
    "# Make predictions\n",
    "#model0\n",
    "predictions = model.predict(X_test_scaled)\n",
    "y_test = y_test.ravel()\n",
    "actual = pd.Series(y_test)\n",
    "\n",
    "#model1\n",
    "predictions1 = model1.predict(X_test_scaled1)\n",
    "y_test1 = y_test1.ravel()\n",
    "actual1 = pd.Series(y_test1)\n",
    "#model2\n",
    "predictions2 = model2.predict(X_test_scaled2)\n",
    "y_test2 = y_test2.ravel()\n",
    "actual2 = pd.Series(y_test2)"
   ]
  },
  {
   "cell_type": "code",
   "execution_count": 14,
   "metadata": {},
   "outputs": [
    {
     "data": {
      "text/html": [
       "<div>\n",
       "<style scoped>\n",
       "    .dataframe tbody tr th:only-of-type {\n",
       "        vertical-align: middle;\n",
       "    }\n",
       "\n",
       "    .dataframe tbody tr th {\n",
       "        vertical-align: top;\n",
       "    }\n",
       "\n",
       "    .dataframe thead th {\n",
       "        text-align: right;\n",
       "    }\n",
       "</style>\n",
       "<table border=\"1\" class=\"dataframe\">\n",
       "  <thead>\n",
       "    <tr style=\"text-align: right;\">\n",
       "      <th></th>\n",
       "      <th>Model0</th>\n",
       "      <th>Model1</th>\n",
       "      <th>Model2</th>\n",
       "      <th>Actual</th>\n",
       "    </tr>\n",
       "  </thead>\n",
       "  <tbody>\n",
       "    <tr>\n",
       "      <th>0</th>\n",
       "      <td>4.726978</td>\n",
       "      <td>4.627288</td>\n",
       "      <td>4.474862</td>\n",
       "      <td>5.00</td>\n",
       "    </tr>\n",
       "    <tr>\n",
       "      <th>1</th>\n",
       "      <td>5.426981</td>\n",
       "      <td>4.942591</td>\n",
       "      <td>4.926511</td>\n",
       "      <td>5.45</td>\n",
       "    </tr>\n",
       "    <tr>\n",
       "      <th>2</th>\n",
       "      <td>9.531761</td>\n",
       "      <td>9.706640</td>\n",
       "      <td>10.556085</td>\n",
       "      <td>9.46</td>\n",
       "    </tr>\n",
       "    <tr>\n",
       "      <th>3</th>\n",
       "      <td>9.425163</td>\n",
       "      <td>8.822104</td>\n",
       "      <td>8.373989</td>\n",
       "      <td>6.48</td>\n",
       "    </tr>\n",
       "    <tr>\n",
       "      <th>4</th>\n",
       "      <td>36.402244</td>\n",
       "      <td>42.204313</td>\n",
       "      <td>41.501677</td>\n",
       "      <td>39.05</td>\n",
       "    </tr>\n",
       "  </tbody>\n",
       "</table>\n",
       "</div>"
      ],
      "text/plain": [
       "      Model0     Model1     Model2  Actual\n",
       "0   4.726978   4.627288   4.474862    5.00\n",
       "1   5.426981   4.942591   4.926511    5.45\n",
       "2   9.531761   9.706640  10.556085    9.46\n",
       "3   9.425163   8.822104   8.373989    6.48\n",
       "4  36.402244  42.204313  41.501677   39.05"
      ]
     },
     "execution_count": 14,
     "metadata": {},
     "output_type": "execute_result"
    }
   ],
   "source": [
    "pd.DataFrame({'Model0':predictions,'Model1':predictions1,'Model2':predictions2,'Actual': actual}).head()"
   ]
  },
  {
   "cell_type": "code",
   "execution_count": 15,
   "metadata": {},
   "outputs": [],
   "source": [
    "# X.tail()\n"
   ]
  },
  {
   "cell_type": "code",
   "execution_count": 16,
   "metadata": {},
   "outputs": [],
   "source": [
    "X_future = X_scaler.transform(X.tail(5))\n",
    "predictions = model.predict(X_future)\n",
    "\n",
    "X_future1 = X_scaler1.transform(X1.tail(5))\n",
    "predictions1 = model1.predict(X_future1)\n",
    "\n",
    "X_future2 = X_scaler2.transform(X2.tail(5))\n",
    "predictions2 = model2.predict(X_future2)"
   ]
  },
  {
   "cell_type": "code",
   "execution_count": 17,
   "metadata": {},
   "outputs": [],
   "source": [
    "actual=futures['High'].ravel()\n",
    "dates=futures.reset_index()\n",
    "dates=dates['date'].tail(5).ravel()\n",
    "# Model1\n",
    "actual1=futures1['High'].ravel()\n",
    "dates1=futures1.reset_index()\n",
    "dates1=dates1['date'].tail(5).ravel()\n",
    "#Model2\n",
    "actual2=futures2['High'].ravel()\n",
    "dates2=futures2.reset_index()\n",
    "dates2=dates2['date'].tail(5).ravel()"
   ]
  },
  {
   "cell_type": "code",
   "execution_count": 18,
   "metadata": {},
   "outputs": [],
   "source": [
    "test_final=pd.DataFrame({'Model0':predictions,'Model1':predictions1,'Model2':predictions2,'Actual':actual, 'Date':dates})"
   ]
  },
  {
   "cell_type": "code",
   "execution_count": 19,
   "metadata": {},
   "outputs": [
    {
     "data": {
      "text/html": [
       "<div>\n",
       "<style scoped>\n",
       "    .dataframe tbody tr th:only-of-type {\n",
       "        vertical-align: middle;\n",
       "    }\n",
       "\n",
       "    .dataframe tbody tr th {\n",
       "        vertical-align: top;\n",
       "    }\n",
       "\n",
       "    .dataframe thead th {\n",
       "        text-align: right;\n",
       "    }\n",
       "</style>\n",
       "<table border=\"1\" class=\"dataframe\">\n",
       "  <thead>\n",
       "    <tr style=\"text-align: right;\">\n",
       "      <th></th>\n",
       "      <th>Model0</th>\n",
       "      <th>Model1</th>\n",
       "      <th>Model2</th>\n",
       "      <th>Actual</th>\n",
       "      <th>Date</th>\n",
       "    </tr>\n",
       "  </thead>\n",
       "  <tbody>\n",
       "    <tr>\n",
       "      <th>0</th>\n",
       "      <td>5.172681</td>\n",
       "      <td>5.165917</td>\n",
       "      <td>5.152373</td>\n",
       "      <td>5.17</td>\n",
       "      <td>2019-11-06</td>\n",
       "    </tr>\n",
       "    <tr>\n",
       "      <th>1</th>\n",
       "      <td>5.298601</td>\n",
       "      <td>5.165917</td>\n",
       "      <td>5.362265</td>\n",
       "      <td>5.30</td>\n",
       "      <td>2019-11-07</td>\n",
       "    </tr>\n",
       "    <tr>\n",
       "      <th>2</th>\n",
       "      <td>5.265557</td>\n",
       "      <td>5.165917</td>\n",
       "      <td>5.171648</td>\n",
       "      <td>5.29</td>\n",
       "      <td>2019-11-08</td>\n",
       "    </tr>\n",
       "    <tr>\n",
       "      <th>3</th>\n",
       "      <td>4.978269</td>\n",
       "      <td>5.165917</td>\n",
       "      <td>5.074295</td>\n",
       "      <td>5.05</td>\n",
       "      <td>2019-11-09</td>\n",
       "    </tr>\n",
       "    <tr>\n",
       "      <th>4</th>\n",
       "      <td>5.134767</td>\n",
       "      <td>5.163856</td>\n",
       "      <td>5.450087</td>\n",
       "      <td>5.09</td>\n",
       "      <td>2019-11-10</td>\n",
       "    </tr>\n",
       "  </tbody>\n",
       "</table>\n",
       "</div>"
      ],
      "text/plain": [
       "     Model0    Model1    Model2  Actual       Date\n",
       "0  5.172681  5.165917  5.152373    5.17 2019-11-06\n",
       "1  5.298601  5.165917  5.362265    5.30 2019-11-07\n",
       "2  5.265557  5.165917  5.171648    5.29 2019-11-08\n",
       "3  4.978269  5.165917  5.074295    5.05 2019-11-09\n",
       "4  5.134767  5.163856  5.450087    5.09 2019-11-10"
      ]
     },
     "execution_count": 19,
     "metadata": {},
     "output_type": "execute_result"
    }
   ],
   "source": [
    "test_final"
   ]
  },
  {
   "cell_type": "code",
   "execution_count": 20,
   "metadata": {},
   "outputs": [],
   "source": [
    "#Model0\n",
    "real_future = X_scaler.transform(df.tail(5))\n",
    "predictions = model.predict(real_future)\n",
    "# #Model1\n",
    "# real_future1 = X_scaler1.transform(df1.tail(5))\n",
    "# predictions1 = model1.predict(real_future1)\n",
    "# #Model2\n",
    "# real_future2 = X_scaler2.transform(df2.tail().drop('Close',axis=1))\n",
    "# predictions2 = model2.predict(real_future2)"
   ]
  },
  {
   "cell_type": "code",
   "execution_count": null,
   "metadata": {},
   "outputs": [],
   "source": []
  },
  {
   "cell_type": "markdown",
   "metadata": {},
   "source": [
    "Based on my predictions today, (Nov 7th)- I should sell my stock tomorrow (Nov 8th)\n"
   ]
  },
  {
   "cell_type": "code",
   "execution_count": 21,
   "metadata": {},
   "outputs": [],
   "source": [
    "datelist = pd.date_range((pd.datetime.today()), periods=5).tolist()\n",
    "\n",
    "# datelist = pd.date_range((pd.datetime.today()+timedelta(days=-3)), periods=5).tolist()\n",
    "future_dates=[]\n",
    "for date in datelist:\n",
    "    future_dates.append(date.strftime(\"%m-%d-%Y\"))"
   ]
  },
  {
   "cell_type": "code",
   "execution_count": 22,
   "metadata": {},
   "outputs": [],
   "source": [
    "final=pd.DataFrame({'Date':future_dates,'Model0':predictions})\n",
    "# final['Avg']=(final.Model0+final.Model1+final.Model2) / 3"
   ]
  },
  {
   "cell_type": "code",
   "execution_count": 23,
   "metadata": {},
   "outputs": [
    {
     "data": {
      "text/html": [
       "<div>\n",
       "<style scoped>\n",
       "    .dataframe tbody tr th:only-of-type {\n",
       "        vertical-align: middle;\n",
       "    }\n",
       "\n",
       "    .dataframe tbody tr th {\n",
       "        vertical-align: top;\n",
       "    }\n",
       "\n",
       "    .dataframe thead th {\n",
       "        text-align: right;\n",
       "    }\n",
       "</style>\n",
       "<table border=\"1\" class=\"dataframe\">\n",
       "  <thead>\n",
       "    <tr style=\"text-align: right;\">\n",
       "      <th></th>\n",
       "      <th>Date</th>\n",
       "      <th>Model0</th>\n",
       "    </tr>\n",
       "  </thead>\n",
       "  <tbody>\n",
       "    <tr>\n",
       "      <th>0</th>\n",
       "      <td>11-11-2019</td>\n",
       "      <td>5.223585</td>\n",
       "    </tr>\n",
       "    <tr>\n",
       "      <th>1</th>\n",
       "      <td>11-12-2019</td>\n",
       "      <td>5.245388</td>\n",
       "    </tr>\n",
       "    <tr>\n",
       "      <th>2</th>\n",
       "      <td>11-13-2019</td>\n",
       "      <td>4.922950</td>\n",
       "    </tr>\n",
       "    <tr>\n",
       "      <th>3</th>\n",
       "      <td>11-14-2019</td>\n",
       "      <td>4.840305</td>\n",
       "    </tr>\n",
       "    <tr>\n",
       "      <th>4</th>\n",
       "      <td>11-15-2019</td>\n",
       "      <td>5.089093</td>\n",
       "    </tr>\n",
       "  </tbody>\n",
       "</table>\n",
       "</div>"
      ],
      "text/plain": [
       "         Date    Model0\n",
       "0  11-11-2019  5.223585\n",
       "1  11-12-2019  5.245388\n",
       "2  11-13-2019  4.922950\n",
       "3  11-14-2019  4.840305\n",
       "4  11-15-2019  5.089093"
      ]
     },
     "execution_count": 23,
     "metadata": {},
     "output_type": "execute_result"
    }
   ],
   "source": [
    "final"
   ]
  },
  {
   "cell_type": "code",
   "execution_count": 24,
   "metadata": {},
   "outputs": [],
   "source": [
    "# final.to_csv('11_11.csv')\n"
   ]
  },
  {
   "cell_type": "code",
   "execution_count": 25,
   "metadata": {},
   "outputs": [],
   "source": [
    "cols = final.columns.tolist()\n",
    "cols = cols[-1:] + cols[:-1]\n",
    "final=final[cols]\n"
   ]
  },
  {
   "cell_type": "code",
   "execution_count": 26,
   "metadata": {},
   "outputs": [
    {
     "data": {
      "text/html": [
       "<div>\n",
       "<style scoped>\n",
       "    .dataframe tbody tr th:only-of-type {\n",
       "        vertical-align: middle;\n",
       "    }\n",
       "\n",
       "    .dataframe tbody tr th {\n",
       "        vertical-align: top;\n",
       "    }\n",
       "\n",
       "    .dataframe thead th {\n",
       "        text-align: right;\n",
       "    }\n",
       "</style>\n",
       "<table border=\"1\" class=\"dataframe\">\n",
       "  <thead>\n",
       "    <tr style=\"text-align: right;\">\n",
       "      <th></th>\n",
       "      <th>Model0</th>\n",
       "      <th>Date</th>\n",
       "    </tr>\n",
       "  </thead>\n",
       "  <tbody>\n",
       "    <tr>\n",
       "      <th>0</th>\n",
       "      <td>5.223585</td>\n",
       "      <td>11-11-2019</td>\n",
       "    </tr>\n",
       "    <tr>\n",
       "      <th>1</th>\n",
       "      <td>5.245388</td>\n",
       "      <td>11-12-2019</td>\n",
       "    </tr>\n",
       "    <tr>\n",
       "      <th>2</th>\n",
       "      <td>4.922950</td>\n",
       "      <td>11-13-2019</td>\n",
       "    </tr>\n",
       "    <tr>\n",
       "      <th>3</th>\n",
       "      <td>4.840305</td>\n",
       "      <td>11-14-2019</td>\n",
       "    </tr>\n",
       "    <tr>\n",
       "      <th>4</th>\n",
       "      <td>5.089093</td>\n",
       "      <td>11-15-2019</td>\n",
       "    </tr>\n",
       "  </tbody>\n",
       "</table>\n",
       "</div>"
      ],
      "text/plain": [
       "     Model0        Date\n",
       "0  5.223585  11-11-2019\n",
       "1  5.245388  11-12-2019\n",
       "2  4.922950  11-13-2019\n",
       "3  4.840305  11-14-2019\n",
       "4  5.089093  11-15-2019"
      ]
     },
     "execution_count": 26,
     "metadata": {},
     "output_type": "execute_result"
    }
   ],
   "source": [
    "final"
   ]
  },
  {
   "cell_type": "code",
   "execution_count": null,
   "metadata": {},
   "outputs": [],
   "source": []
  },
  {
   "cell_type": "code",
   "execution_count": null,
   "metadata": {},
   "outputs": [],
   "source": []
  },
  {
   "cell_type": "code",
   "execution_count": null,
   "metadata": {},
   "outputs": [],
   "source": []
  },
  {
   "cell_type": "code",
   "execution_count": null,
   "metadata": {},
   "outputs": [],
   "source": []
  },
  {
   "cell_type": "code",
   "execution_count": null,
   "metadata": {},
   "outputs": [],
   "source": []
  },
  {
   "cell_type": "code",
   "execution_count": null,
   "metadata": {},
   "outputs": [],
   "source": []
  },
  {
   "cell_type": "code",
   "execution_count": null,
   "metadata": {},
   "outputs": [],
   "source": []
  }
 ],
 "metadata": {
  "kernelspec": {
   "display_name": "testgv",
   "language": "python",
   "name": "testgv"
  },
  "language_info": {
   "codemirror_mode": {
    "name": "ipython",
    "version": 3
   },
   "file_extension": ".py",
   "mimetype": "text/x-python",
   "name": "python",
   "nbconvert_exporter": "python",
   "pygments_lexer": "ipython3",
   "version": "3.7.3"
  }
 },
 "nbformat": 4,
 "nbformat_minor": 2
}
