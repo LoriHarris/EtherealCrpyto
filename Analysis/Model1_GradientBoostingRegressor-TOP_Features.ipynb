{
 "cells": [
  {
   "cell_type": "code",
   "execution_count": 9,
   "metadata": {},
   "outputs": [],
   "source": [
    "# Initial imports\n",
    "import pandas as pd\n",
    "from path import Path\n",
    "from sklearn import tree\n",
    "from sklearn.preprocessing import StandardScaler\n",
    "from sklearn.decomposition import PCA\n",
    "from sklearn.model_selection import train_test_split\n",
    "# from sklearn.metrics import confusion_matrix\n",
    "# from sklearn.metrics import score\n",
    "from sklearn.metrics import classification_report\n",
    "from sklearn.ensemble import GradientBoostingRegressor\n",
    "import datetime\n",
    "import seaborn as sns\n",
    "import matplotlib.pyplot as plt\n",
    "\n",
    "# Needed for decision tree visualization\n",
    "import pydotplus\n",
    "from IPython.display import Image"
   ]
  },
  {
   "cell_type": "code",
   "execution_count": 10,
   "metadata": {},
   "outputs": [
    {
     "data": {
      "text/html": [
       "<div>\n",
       "<style scoped>\n",
       "    .dataframe tbody tr th:only-of-type {\n",
       "        vertical-align: middle;\n",
       "    }\n",
       "\n",
       "    .dataframe tbody tr th {\n",
       "        vertical-align: top;\n",
       "    }\n",
       "\n",
       "    .dataframe thead th {\n",
       "        text-align: right;\n",
       "    }\n",
       "</style>\n",
       "<table border=\"1\" class=\"dataframe\">\n",
       "  <thead>\n",
       "    <tr style=\"text-align: right;\">\n",
       "      <th></th>\n",
       "      <th>FeeMedUSD</th>\n",
       "      <th>TxTfrValMedUSD</th>\n",
       "      <th>Close</th>\n",
       "      <th>IssTotUSD</th>\n",
       "      <th>VtyDayRet30d</th>\n",
       "    </tr>\n",
       "    <tr>\n",
       "      <th>date</th>\n",
       "      <th></th>\n",
       "      <th></th>\n",
       "      <th></th>\n",
       "      <th></th>\n",
       "      <th></th>\n",
       "    </tr>\n",
       "  </thead>\n",
       "  <tbody>\n",
       "    <tr>\n",
       "      <th>2019-11-03</th>\n",
       "      <td>0.000103</td>\n",
       "      <td>4.879751</td>\n",
       "      <td>4.885147</td>\n",
       "      <td>129853.306330</td>\n",
       "      <td>0.037288</td>\n",
       "    </tr>\n",
       "    <tr>\n",
       "      <th>2019-11-04</th>\n",
       "      <td>0.000104</td>\n",
       "      <td>4.957563</td>\n",
       "      <td>4.959801</td>\n",
       "      <td>129155.688761</td>\n",
       "      <td>0.037364</td>\n",
       "    </tr>\n",
       "    <tr>\n",
       "      <th>2019-11-05</th>\n",
       "      <td>0.000105</td>\n",
       "      <td>5.018602</td>\n",
       "      <td>5.021905</td>\n",
       "      <td>132108.756102</td>\n",
       "      <td>0.036883</td>\n",
       "    </tr>\n",
       "    <tr>\n",
       "      <th>2019-11-06</th>\n",
       "      <td>0.000107</td>\n",
       "      <td>5.075210</td>\n",
       "      <td>5.077399</td>\n",
       "      <td>134023.015565</td>\n",
       "      <td>0.036105</td>\n",
       "    </tr>\n",
       "    <tr>\n",
       "      <th>2019-11-07</th>\n",
       "      <td>0.000110</td>\n",
       "      <td>5.224026</td>\n",
       "      <td>5.225557</td>\n",
       "      <td>139381.284372</td>\n",
       "      <td>0.036280</td>\n",
       "    </tr>\n",
       "  </tbody>\n",
       "</table>\n",
       "</div>"
      ],
      "text/plain": [
       "            FeeMedUSD  TxTfrValMedUSD     Close      IssTotUSD  VtyDayRet30d\n",
       "date                                                                        \n",
       "2019-11-03   0.000103        4.879751  4.885147  129853.306330      0.037288\n",
       "2019-11-04   0.000104        4.957563  4.959801  129155.688761      0.037364\n",
       "2019-11-05   0.000105        5.018602  5.021905  132108.756102      0.036883\n",
       "2019-11-06   0.000107        5.075210  5.077399  134023.015565      0.036105\n",
       "2019-11-07   0.000110        5.224026  5.225557  139381.284372      0.036280"
      ]
     },
     "execution_count": 10,
     "metadata": {},
     "output_type": "execute_result"
    }
   ],
   "source": [
    "df = pd.read_csv('etc.csv',parse_dates=True, index_col=('date'))\n",
    "df.dropna(inplace=True)\n",
    "df.rename(columns={'date':'Date','PriceUSD':'Close'}, inplace=True)\n",
    "df = df[['FeeMedUSD','TxTfrValMedUSD','Close','IssTotUSD','VtyDayRet30d']]\n",
    "futures = df.tail()\n",
    "futures"
   ]
  },
  {
   "cell_type": "code",
   "execution_count": 11,
   "metadata": {},
   "outputs": [],
   "source": [
    "X=df[:-5].copy()\n",
    "X=X[['FeeMedUSD','TxTfrValMedUSD','Close','IssTotUSD','VtyDayRet30d']]"
   ]
  },
  {
   "cell_type": "code",
   "execution_count": 12,
   "metadata": {},
   "outputs": [
    {
     "data": {
      "text/plain": [
       "array([[13.77123374],\n",
       "       [13.7885407 ],\n",
       "       [14.56510615],\n",
       "       [14.46664599],\n",
       "       [15.2493882 ]])"
      ]
     },
     "execution_count": 12,
     "metadata": {},
     "output_type": "execute_result"
    }
   ],
   "source": [
    "y = df[\"Close\"][5:].values.reshape(-1, 1)\n",
    "y[:5]"
   ]
  },
  {
   "cell_type": "code",
   "execution_count": 13,
   "metadata": {},
   "outputs": [
    {
     "data": {
      "text/plain": [
       "(831, 5)"
      ]
     },
     "execution_count": 13,
     "metadata": {},
     "output_type": "execute_result"
    }
   ],
   "source": [
    "X.shape"
   ]
  },
  {
   "cell_type": "code",
   "execution_count": 14,
   "metadata": {},
   "outputs": [],
   "source": [
    "X_train, X_test, y_train, y_test = train_test_split(X, y, random_state=78)"
   ]
  },
  {
   "cell_type": "code",
   "execution_count": 15,
   "metadata": {},
   "outputs": [],
   "source": [
    "scaler = StandardScaler()\n",
    "X_scaler = scaler.fit(X_train)\n",
    "# Scale the training data\n",
    "X_train_scaled = X_scaler.transform(X_train)\n",
    "X_test_scaled = X_scaler.transform(X_test)"
   ]
  },
  {
   "cell_type": "code",
   "execution_count": 16,
   "metadata": {},
   "outputs": [
    {
     "name": "stdout",
     "output_type": "stream",
     "text": [
      "Learning rate:  0.05\n",
      "Accuracy score (training): 0.971\n",
      "Accuracy score (validation): 0.942\n",
      "\n",
      "Learning rate:  0.1\n",
      "Accuracy score (training): 0.983\n",
      "Accuracy score (validation): 0.939\n",
      "\n",
      "Learning rate:  0.25\n",
      "Accuracy score (training): 0.994\n",
      "Accuracy score (validation): 0.936\n",
      "\n",
      "Learning rate:  0.5\n",
      "Accuracy score (training): 0.998\n",
      "Accuracy score (validation): 0.938\n",
      "\n",
      "Learning rate:  0.75\n",
      "Accuracy score (training): 0.999\n",
      "Accuracy score (validation): 0.929\n",
      "\n",
      "Learning rate:  1\n",
      "Accuracy score (training): 1.000\n",
      "Accuracy score (validation): 0.885\n",
      "\n"
     ]
    }
   ],
   "source": [
    "# Choose learning rate\n",
    "learning_rates = [0.05, 0.1, 0.25, 0.5, 0.75, 1]\n",
    "for learning_rate in learning_rates:\n",
    "    model = GradientBoostingRegressor(\n",
    "        n_estimators=100,\n",
    "        learning_rate=learning_rate,\n",
    "        max_features=2,\n",
    "        max_depth=3,\n",
    "        random_state=0)\n",
    "    model.fit(X_train_scaled,y_train.ravel())\n",
    "    print(\"Learning rate: \", learning_rate)\n",
    "\n",
    "    # Score the model\n",
    "    print(\"Accuracy score (training): {0:.3f}\".format(\n",
    "        model.score(\n",
    "            X_train_scaled,\n",
    "            y_train.ravel())))\n",
    "    print(\"Accuracy score (validation): {0:.3f}\".format(\n",
    "        model.score(\n",
    "            X_test_scaled,\n",
    "            y_test.ravel())))\n",
    "    print()"
   ]
  },
  {
   "cell_type": "code",
   "execution_count": 31,
   "metadata": {},
   "outputs": [
    {
     "name": "stdout",
     "output_type": "stream",
     "text": [
      "Accuracy score (training): 0.995\n",
      "Accuracy score (validation): 0.944\n"
     ]
    }
   ],
   "source": [
    "# Create GradientBoostingClassifier model\n",
    "model = GradientBoostingRegressor(\n",
    "    n_estimators=500,\n",
    "    learning_rate=.05,\n",
    "    max_features=5,\n",
    "    max_depth=3,\n",
    "    random_state=0)\n",
    "\n",
    "# Fit the model\n",
    "model.fit(X_train_scaled,y_train.ravel())\n",
    "\n",
    "# Score the model\n",
    "print(\"Accuracy score (training): {0:.3f}\".format(\n",
    "    model.score(\n",
    "        X_train_scaled,\n",
    "        y_train)))\n",
    "print(\"Accuracy score (validation): {0:.3f}\".format(\n",
    "    model.score(\n",
    "        X_test_scaled,\n",
    "        y_test)))"
   ]
  },
  {
   "cell_type": "code",
   "execution_count": 18,
   "metadata": {},
   "outputs": [],
   "source": [
    "# Make predictions\n",
    "predictions = model.predict(X_test_scaled)\n",
    "y_test = y_test.ravel()\n",
    "actual = pd.Series(y_test)\n"
   ]
  },
  {
   "cell_type": "code",
   "execution_count": 19,
   "metadata": {},
   "outputs": [
    {
     "data": {
      "text/html": [
       "<div>\n",
       "<style scoped>\n",
       "    .dataframe tbody tr th:only-of-type {\n",
       "        vertical-align: middle;\n",
       "    }\n",
       "\n",
       "    .dataframe tbody tr th {\n",
       "        vertical-align: top;\n",
       "    }\n",
       "\n",
       "    .dataframe thead th {\n",
       "        text-align: right;\n",
       "    }\n",
       "</style>\n",
       "<table border=\"1\" class=\"dataframe\">\n",
       "  <thead>\n",
       "    <tr style=\"text-align: right;\">\n",
       "      <th></th>\n",
       "      <th>0</th>\n",
       "    </tr>\n",
       "  </thead>\n",
       "  <tbody>\n",
       "    <tr>\n",
       "      <th>7.759489</th>\n",
       "      <td>8.539883</td>\n",
       "    </tr>\n",
       "    <tr>\n",
       "      <th>20.305990</th>\n",
       "      <td>23.627569</td>\n",
       "    </tr>\n",
       "    <tr>\n",
       "      <th>15.514053</th>\n",
       "      <td>14.341248</td>\n",
       "    </tr>\n",
       "    <tr>\n",
       "      <th>19.896613</th>\n",
       "      <td>18.851221</td>\n",
       "    </tr>\n",
       "    <tr>\n",
       "      <th>6.177130</th>\n",
       "      <td>6.134184</td>\n",
       "    </tr>\n",
       "  </tbody>\n",
       "</table>\n",
       "</div>"
      ],
      "text/plain": [
       "                   0\n",
       "7.759489    8.539883\n",
       "20.305990  23.627569\n",
       "15.514053  14.341248\n",
       "19.896613  18.851221\n",
       "6.177130    6.134184"
      ]
     },
     "execution_count": 19,
     "metadata": {},
     "output_type": "execute_result"
    }
   ],
   "source": [
    "pd.DataFrame(predictions, actual).head()"
   ]
  },
  {
   "cell_type": "code",
   "execution_count": 20,
   "metadata": {},
   "outputs": [
    {
     "data": {
      "text/html": [
       "<div>\n",
       "<style scoped>\n",
       "    .dataframe tbody tr th:only-of-type {\n",
       "        vertical-align: middle;\n",
       "    }\n",
       "\n",
       "    .dataframe tbody tr th {\n",
       "        vertical-align: top;\n",
       "    }\n",
       "\n",
       "    .dataframe thead th {\n",
       "        text-align: right;\n",
       "    }\n",
       "</style>\n",
       "<table border=\"1\" class=\"dataframe\">\n",
       "  <thead>\n",
       "    <tr style=\"text-align: right;\">\n",
       "      <th></th>\n",
       "      <th>FeeMedUSD</th>\n",
       "      <th>TxTfrValMedUSD</th>\n",
       "      <th>Close</th>\n",
       "      <th>IssTotUSD</th>\n",
       "      <th>VtyDayRet30d</th>\n",
       "    </tr>\n",
       "    <tr>\n",
       "      <th>date</th>\n",
       "      <th></th>\n",
       "      <th></th>\n",
       "      <th></th>\n",
       "      <th></th>\n",
       "      <th></th>\n",
       "    </tr>\n",
       "  </thead>\n",
       "  <tbody>\n",
       "    <tr>\n",
       "      <th>2019-10-29</th>\n",
       "      <td>0.000104</td>\n",
       "      <td>4.925623</td>\n",
       "      <td>4.929877</td>\n",
       "      <td>128165.706831</td>\n",
       "      <td>0.037467</td>\n",
       "    </tr>\n",
       "    <tr>\n",
       "      <th>2019-10-30</th>\n",
       "      <td>0.000101</td>\n",
       "      <td>4.793776</td>\n",
       "      <td>4.798545</td>\n",
       "      <td>127249.010344</td>\n",
       "      <td>0.037404</td>\n",
       "    </tr>\n",
       "    <tr>\n",
       "      <th>2019-10-31</th>\n",
       "      <td>0.000101</td>\n",
       "      <td>4.807551</td>\n",
       "      <td>4.810475</td>\n",
       "      <td>127244.276504</td>\n",
       "      <td>0.037277</td>\n",
       "    </tr>\n",
       "    <tr>\n",
       "      <th>2019-11-01</th>\n",
       "      <td>0.000102</td>\n",
       "      <td>4.875223</td>\n",
       "      <td>4.878874</td>\n",
       "      <td>130257.404616</td>\n",
       "      <td>0.037313</td>\n",
       "    </tr>\n",
       "    <tr>\n",
       "      <th>2019-11-02</th>\n",
       "      <td>0.000103</td>\n",
       "      <td>4.922534</td>\n",
       "      <td>4.927673</td>\n",
       "      <td>130901.167579</td>\n",
       "      <td>0.037269</td>\n",
       "    </tr>\n",
       "  </tbody>\n",
       "</table>\n",
       "</div>"
      ],
      "text/plain": [
       "            FeeMedUSD  TxTfrValMedUSD     Close      IssTotUSD  VtyDayRet30d\n",
       "date                                                                        \n",
       "2019-10-29   0.000104        4.925623  4.929877  128165.706831      0.037467\n",
       "2019-10-30   0.000101        4.793776  4.798545  127249.010344      0.037404\n",
       "2019-10-31   0.000101        4.807551  4.810475  127244.276504      0.037277\n",
       "2019-11-01   0.000102        4.875223  4.878874  130257.404616      0.037313\n",
       "2019-11-02   0.000103        4.922534  4.927673  130901.167579      0.037269"
      ]
     },
     "execution_count": 20,
     "metadata": {},
     "output_type": "execute_result"
    }
   ],
   "source": [
    "X.tail()"
   ]
  },
  {
   "cell_type": "code",
   "execution_count": 21,
   "metadata": {},
   "outputs": [],
   "source": [
    "X_future = X_scaler.transform(X.tail(5))\n",
    "predictions = model.predict(X_future)"
   ]
  },
  {
   "cell_type": "code",
   "execution_count": 22,
   "metadata": {},
   "outputs": [
    {
     "data": {
      "text/plain": [
       "(5,)"
      ]
     },
     "execution_count": 22,
     "metadata": {},
     "output_type": "execute_result"
    }
   ],
   "source": [
    "actual=futures['Close'].ravel()\n",
    "dates=futures.reset_index()\n",
    "dates=dates['date'].tail(5).ravel()\n",
    "predictions.shape"
   ]
  },
  {
   "cell_type": "code",
   "execution_count": 23,
   "metadata": {},
   "outputs": [
    {
     "data": {
      "text/html": [
       "<div>\n",
       "<style scoped>\n",
       "    .dataframe tbody tr th:only-of-type {\n",
       "        vertical-align: middle;\n",
       "    }\n",
       "\n",
       "    .dataframe tbody tr th {\n",
       "        vertical-align: top;\n",
       "    }\n",
       "\n",
       "    .dataframe thead th {\n",
       "        text-align: right;\n",
       "    }\n",
       "</style>\n",
       "<table border=\"1\" class=\"dataframe\">\n",
       "  <thead>\n",
       "    <tr style=\"text-align: right;\">\n",
       "      <th></th>\n",
       "      <th>Predicted</th>\n",
       "      <th>Actual</th>\n",
       "      <th>Date</th>\n",
       "      <th>Accuracy</th>\n",
       "    </tr>\n",
       "  </thead>\n",
       "  <tbody>\n",
       "    <tr>\n",
       "      <th>0</th>\n",
       "      <td>4.885091</td>\n",
       "      <td>4.885147</td>\n",
       "      <td>2019-11-03</td>\n",
       "      <td>0.999989</td>\n",
       "    </tr>\n",
       "    <tr>\n",
       "      <th>1</th>\n",
       "      <td>4.959216</td>\n",
       "      <td>4.959801</td>\n",
       "      <td>2019-11-04</td>\n",
       "      <td>0.999882</td>\n",
       "    </tr>\n",
       "    <tr>\n",
       "      <th>2</th>\n",
       "      <td>5.022352</td>\n",
       "      <td>5.021905</td>\n",
       "      <td>2019-11-05</td>\n",
       "      <td>1.000089</td>\n",
       "    </tr>\n",
       "    <tr>\n",
       "      <th>3</th>\n",
       "      <td>5.248464</td>\n",
       "      <td>5.077399</td>\n",
       "      <td>2019-11-06</td>\n",
       "      <td>1.033692</td>\n",
       "    </tr>\n",
       "    <tr>\n",
       "      <th>4</th>\n",
       "      <td>5.225462</td>\n",
       "      <td>5.225557</td>\n",
       "      <td>2019-11-07</td>\n",
       "      <td>0.999982</td>\n",
       "    </tr>\n",
       "  </tbody>\n",
       "</table>\n",
       "</div>"
      ],
      "text/plain": [
       "   Predicted    Actual       Date  Accuracy\n",
       "0   4.885091  4.885147 2019-11-03  0.999989\n",
       "1   4.959216  4.959801 2019-11-04  0.999882\n",
       "2   5.022352  5.021905 2019-11-05  1.000089\n",
       "3   5.248464  5.077399 2019-11-06  1.033692\n",
       "4   5.225462  5.225557 2019-11-07  0.999982"
      ]
     },
     "execution_count": 23,
     "metadata": {},
     "output_type": "execute_result"
    }
   ],
   "source": [
    "pd.DataFrame({'Predicted':predictions,'Actual':actual, 'Date':dates,'Accuracy':(predictions/actual)})"
   ]
  },
  {
   "cell_type": "code",
   "execution_count": 24,
   "metadata": {},
   "outputs": [],
   "source": [
    "predict_me=df.tail()\n",
    "real_future = X_scaler.transform(predict_me)\n",
    "predictions = model.predict(real_future)"
   ]
  },
  {
   "cell_type": "code",
   "execution_count": 25,
   "metadata": {},
   "outputs": [
    {
     "data": {
      "text/plain": [
       "array([5.24846389, 4.76357665, 5.64598069, 4.90639553, 6.21539758])"
      ]
     },
     "execution_count": 25,
     "metadata": {},
     "output_type": "execute_result"
    }
   ],
   "source": [
    "predictions"
   ]
  },
  {
   "cell_type": "markdown",
   "metadata": {},
   "source": [
    "Based on my predictions today, (Nov 7th)- I should sell my stock tomorrow (Nov 8th)\n"
   ]
  },
  {
   "cell_type": "code",
   "execution_count": 26,
   "metadata": {},
   "outputs": [],
   "source": [
    "\n",
    "datelist = pd.date_range(pd.datetime.today(), periods=5).tolist()\n",
    "future_dates=[]\n",
    "for date in datelist:\n",
    "    future_dates.append(date.strftime(\"%m-%d-%Y\"))"
   ]
  },
  {
   "cell_type": "code",
   "execution_count": 27,
   "metadata": {},
   "outputs": [
    {
     "data": {
      "text/html": [
       "<div>\n",
       "<style scoped>\n",
       "    .dataframe tbody tr th:only-of-type {\n",
       "        vertical-align: middle;\n",
       "    }\n",
       "\n",
       "    .dataframe tbody tr th {\n",
       "        vertical-align: top;\n",
       "    }\n",
       "\n",
       "    .dataframe thead th {\n",
       "        text-align: right;\n",
       "    }\n",
       "</style>\n",
       "<table border=\"1\" class=\"dataframe\">\n",
       "  <thead>\n",
       "    <tr style=\"text-align: right;\">\n",
       "      <th></th>\n",
       "      <th>Date</th>\n",
       "      <th>Predictions</th>\n",
       "    </tr>\n",
       "  </thead>\n",
       "  <tbody>\n",
       "    <tr>\n",
       "      <th>0</th>\n",
       "      <td>11-08-2019</td>\n",
       "      <td>5.248464</td>\n",
       "    </tr>\n",
       "    <tr>\n",
       "      <th>1</th>\n",
       "      <td>11-09-2019</td>\n",
       "      <td>4.763577</td>\n",
       "    </tr>\n",
       "    <tr>\n",
       "      <th>2</th>\n",
       "      <td>11-10-2019</td>\n",
       "      <td>5.645981</td>\n",
       "    </tr>\n",
       "    <tr>\n",
       "      <th>3</th>\n",
       "      <td>11-11-2019</td>\n",
       "      <td>4.906396</td>\n",
       "    </tr>\n",
       "    <tr>\n",
       "      <th>4</th>\n",
       "      <td>11-12-2019</td>\n",
       "      <td>6.215398</td>\n",
       "    </tr>\n",
       "  </tbody>\n",
       "</table>\n",
       "</div>"
      ],
      "text/plain": [
       "         Date  Predictions\n",
       "0  11-08-2019     5.248464\n",
       "1  11-09-2019     4.763577\n",
       "2  11-10-2019     5.645981\n",
       "3  11-11-2019     4.906396\n",
       "4  11-12-2019     6.215398"
      ]
     },
     "execution_count": 27,
     "metadata": {},
     "output_type": "execute_result"
    }
   ],
   "source": [
    "pd.DataFrame({'Date':future_dates,'Predictions':predictions})"
   ]
  },
  {
   "cell_type": "code",
   "execution_count": 28,
   "metadata": {},
   "outputs": [
    {
     "data": {
      "image/png": "[encoded data removed]",
      "text/plain": [
       "<Figure size 720x720 with 1 Axes>"
      ]
     },
     "metadata": {
      "needs_background": "light"
     },
     "output_type": "display_data"
    }
   ],
   "source": [
    "fold_importance_df=pd.DataFrame()\n",
    "fold_importance_df['Feature']=predict_me.columns\n",
    "feature_importance_df=pd.DataFrame()\n",
    "fold_importance_df[\"importance\"]=model.feature_importances_[:len(df.tail(5).columns)]\n",
    "feature_importance_df=pd.concat([feature_importance_df, fold_importance_df], axis=0)\n",
    "cols = (feature_importance_df[[\"Feature\", \"importance\"]]\n",
    "        .groupby(\"Feature\")\n",
    "        .mean()\n",
    "        .sort_values(by=\"importance\", ascending=False)[:200].index)\n",
    "best_features = feature_importance_df.loc[feature_importance_df.Feature.isin(cols)]\n",
    "\n",
    "plt.figure(figsize=(10,10))\n",
    "sns.barplot(x=\"importance\", y=\"Feature\", data=best_features.sort_values(by=\"importance\",ascending=False))\n",
    "plt.title('LightGBM Features (averaged over folds)')\n",
    "plt.tight_layout()\n",
    "\n",
    "plt.savefig('lgbm_importances.png')"
   ]
  },
  {
   "cell_type": "code",
   "execution_count": null,
   "metadata": {},
   "outputs": [],
   "source": []
  },
  {
   "cell_type": "code",
   "execution_count": null,
   "metadata": {},
   "outputs": [],
   "source": []
  },
  {
   "cell_type": "code",
   "execution_count": null,
   "metadata": {},
   "outputs": [],
   "source": []
  },
  {
   "cell_type": "code",
   "execution_count": null,
   "metadata": {},
   "outputs": [],
   "source": []
  }
 ],
 "metadata": {
  "kernelspec": {
   "display_name": "testgv",
   "language": "python",
   "name": "testgv"
  },
  "language_info": {
   "codemirror_mode": {
    "name": "ipython",
    "version": 3
   },
   "file_extension": ".py",
   "mimetype": "text/x-python",
   "name": "python",
   "nbconvert_exporter": "python",
   "pygments_lexer": "ipython3",
   "version": "3.7.3"
  }
 },
 "nbformat": 4,
 "nbformat_minor": 2
}
