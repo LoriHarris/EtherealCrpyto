{
 "cells": [
  {
   "cell_type": "code",
   "execution_count": 1,
   "metadata": {},
   "outputs": [],
   "source": [
    "# Initial imports\n",
    "import pandas as pd\n",
    "from path import Path\n",
    "from sklearn import tree\n",
    "from sklearn.preprocessing import StandardScaler\n",
    "from sklearn.decomposition import PCA\n",
    "from sklearn.model_selection import train_test_split\n",
    "from sklearn.metrics import confusion_matrix\n",
    "# from sklearn.metrics import score\n",
    "from sklearn.metrics import classification_report\n",
    "from sklearn.ensemble import GradientBoostingRegressor\n",
    "from datetime import datetime, timedelta\n",
    "import seaborn as sns\n",
    "import matplotlib.pyplot as plt\n",
    "\n",
    "# Needed for decision tree visualization\n",
    "import pydotplus\n",
    "from IPython.display import Image"
   ]
  },
  {
   "cell_type": "code",
   "execution_count": 2,
   "metadata": {},
   "outputs": [
    {
     "data": {
      "text/plain": [
       "date\n",
       "2019-11-08    4.984974\n",
       "2019-11-09    4.956965\n",
       "2019-11-10    5.038860\n",
       "2019-11-11    4.884171\n",
       "2019-11-12    4.899531\n",
       "Name: Close, dtype: float64"
      ]
     },
     "execution_count": 2,
     "metadata": {},
     "output_type": "execute_result"
    }
   ],
   "source": [
    "df = pd.read_csv('etc.csv',parse_dates=True, index_col=('date'))\n",
    "df.dropna(inplace=True)\n",
    "df.rename(columns={'date':'Date','PriceUSD':'Close'}, inplace=True)\n",
    "futures = df.tail(1)\n",
    "\n",
    "df1 = df[['FeeMedUSD','TxTfrValMedUSD','Close','IssTotUSD','VtyDayRet30d']]\n",
    "futures1 = df1.tail(1)\n",
    "\n",
    "df2 = df[['FeeMedUSD','TxTfrValMedUSD','Close','IssTotUSD','VtyDayRet30d','TxTfrValMeanNtv']]\n",
    "futures2 = df2.tail(1)\n",
    "df.Close.tail()"
   ]
  },
  {
   "cell_type": "code",
   "execution_count": 3,
   "metadata": {},
   "outputs": [
    {
     "data": {
      "text/plain": [
       "(841, 37)"
      ]
     },
     "execution_count": 3,
     "metadata": {},
     "output_type": "execute_result"
    }
   ],
   "source": [
    "df.shape"
   ]
  },
  {
   "cell_type": "code",
   "execution_count": 4,
   "metadata": {},
   "outputs": [
    {
     "data": {
      "text/html": [
       "<div>\n",
       "<style scoped>\n",
       "    .dataframe tbody tr th:only-of-type {\n",
       "        vertical-align: middle;\n",
       "    }\n",
       "\n",
       "    .dataframe tbody tr th {\n",
       "        vertical-align: top;\n",
       "    }\n",
       "\n",
       "    .dataframe thead th {\n",
       "        text-align: right;\n",
       "    }\n",
       "</style>\n",
       "<table border=\"1\" class=\"dataframe\">\n",
       "  <thead>\n",
       "    <tr style=\"text-align: right;\">\n",
       "      <th></th>\n",
       "      <th>AdrActCnt</th>\n",
       "      <th>BlkCnt</th>\n",
       "      <th>BlkSizeByte</th>\n",
       "      <th>BlkSizeMeanByte</th>\n",
       "      <th>CapMrktCurUSD</th>\n",
       "      <th>DiffMean</th>\n",
       "      <th>FeeMeanNtv</th>\n",
       "      <th>FeeMeanUSD</th>\n",
       "      <th>FeeMedNtv</th>\n",
       "      <th>FeeMedUSD</th>\n",
       "      <th>...</th>\n",
       "      <th>TxTfrValAdjUSD</th>\n",
       "      <th>TxTfrValMeanNtv</th>\n",
       "      <th>TxTfrValMeanUSD</th>\n",
       "      <th>TxTfrValMedNtv</th>\n",
       "      <th>TxTfrValMedUSD</th>\n",
       "      <th>TxTfrValNtv</th>\n",
       "      <th>TxTfrValUSD</th>\n",
       "      <th>VtyDayRet180d</th>\n",
       "      <th>VtyDayRet30d</th>\n",
       "      <th>VtyDayRet60d</th>\n",
       "    </tr>\n",
       "    <tr>\n",
       "      <th>date</th>\n",
       "      <th></th>\n",
       "      <th></th>\n",
       "      <th></th>\n",
       "      <th></th>\n",
       "      <th></th>\n",
       "      <th></th>\n",
       "      <th></th>\n",
       "      <th></th>\n",
       "      <th></th>\n",
       "      <th></th>\n",
       "      <th></th>\n",
       "      <th></th>\n",
       "      <th></th>\n",
       "      <th></th>\n",
       "      <th></th>\n",
       "      <th></th>\n",
       "      <th></th>\n",
       "      <th></th>\n",
       "      <th></th>\n",
       "      <th></th>\n",
       "      <th></th>\n",
       "    </tr>\n",
       "  </thead>\n",
       "  <tbody>\n",
       "    <tr>\n",
       "      <th>2019-11-12</th>\n",
       "      <td>459389</td>\n",
       "      <td>6555</td>\n",
       "      <td>9990787</td>\n",
       "      <td>1524.147521</td>\n",
       "      <td>5.645859e+08</td>\n",
       "      <td>1.257421e+14</td>\n",
       "      <td>0.000172</td>\n",
       "      <td>0.000841</td>\n",
       "      <td>0.000021</td>\n",
       "      <td>0.000103</td>\n",
       "      <td>...</td>\n",
       "      <td>2.515486e+06</td>\n",
       "      <td>18.564551</td>\n",
       "      <td>90.957599</td>\n",
       "      <td>0.965339</td>\n",
       "      <td>4.72971</td>\n",
       "      <td>622599.352604</td>\n",
       "      <td>3.050445e+06</td>\n",
       "      <td>0.045519</td>\n",
       "      <td>0.031577</td>\n",
       "      <td>0.040079</td>\n",
       "    </tr>\n",
       "  </tbody>\n",
       "</table>\n",
       "<p>1 rows × 37 columns</p>\n",
       "</div>"
      ],
      "text/plain": [
       "            AdrActCnt  BlkCnt  BlkSizeByte  BlkSizeMeanByte  CapMrktCurUSD  \\\n",
       "date                                                                         \n",
       "2019-11-12     459389    6555      9990787      1524.147521   5.645859e+08   \n",
       "\n",
       "                DiffMean  FeeMeanNtv  FeeMeanUSD  FeeMedNtv  FeeMedUSD  ...  \\\n",
       "date                                                                    ...   \n",
       "2019-11-12  1.257421e+14    0.000172    0.000841   0.000021   0.000103  ...   \n",
       "\n",
       "            TxTfrValAdjUSD  TxTfrValMeanNtv  TxTfrValMeanUSD  TxTfrValMedNtv  \\\n",
       "date                                                                           \n",
       "2019-11-12    2.515486e+06        18.564551        90.957599        0.965339   \n",
       "\n",
       "            TxTfrValMedUSD    TxTfrValNtv   TxTfrValUSD  VtyDayRet180d  \\\n",
       "date                                                                     \n",
       "2019-11-12         4.72971  622599.352604  3.050445e+06       0.045519   \n",
       "\n",
       "            VtyDayRet30d  VtyDayRet60d  \n",
       "date                                    \n",
       "2019-11-12      0.031577      0.040079  \n",
       "\n",
       "[1 rows x 37 columns]"
      ]
     },
     "execution_count": 4,
     "metadata": {},
     "output_type": "execute_result"
    }
   ],
   "source": [
    "# df = df[:-3]\n",
    "futures.head()"
   ]
  },
  {
   "cell_type": "code",
   "execution_count": 5,
   "metadata": {},
   "outputs": [
    {
     "data": {
      "text/plain": [
       "array([[14.64347978]])"
      ]
     },
     "execution_count": 5,
     "metadata": {},
     "output_type": "execute_result"
    }
   ],
   "source": [
    "#Model0\n",
    "X=df[:-1].copy()\n",
    "X.head()\n",
    "y = df[\"Close\"][1:].values.reshape(-1, 1)\n",
    "y[:5]\n",
    "#Model1\n",
    "X1=df1[:-1].copy()\n",
    "X1=X1[['FeeMedUSD','TxTfrValMedUSD','Close','IssTotUSD','VtyDayRet30d']]\n",
    "y1 = df1[\"Close\"][1:].values.reshape(-1, 1)\n",
    "y1[:1]\n",
    "#Model2\n",
    "X2=df2[:-1].copy()\n",
    "X2=X2[['FeeMedUSD','TxTfrValMedUSD','IssTotUSD','VtyDayRet30d','TxTfrValMeanNtv']]\n",
    "y2 = df2[\"Close\"][1:].values.reshape(-1, 1)\n",
    "y2[:1]"
   ]
  },
  {
   "cell_type": "code",
   "execution_count": 6,
   "metadata": {},
   "outputs": [
    {
     "data": {
      "text/plain": [
       "(5, 37)"
      ]
     },
     "execution_count": 6,
     "metadata": {},
     "output_type": "execute_result"
    }
   ],
   "source": [
    "X.tail().shape"
   ]
  },
  {
   "cell_type": "code",
   "execution_count": null,
   "metadata": {},
   "outputs": [],
   "source": []
  },
  {
   "cell_type": "code",
   "execution_count": null,
   "metadata": {},
   "outputs": [],
   "source": []
  },
  {
   "cell_type": "code",
   "execution_count": 7,
   "metadata": {},
   "outputs": [],
   "source": [
    "X_train, X_test, y_train, y_test = train_test_split(X, y, random_state=78)\n",
    "X_train1, X_test1, y_train1, y_test1 = train_test_split(X1, y1, random_state=78)\n",
    "X_train2, X_test2, y_train2, y_test2 = train_test_split(X2, y2, random_state=78)"
   ]
  },
  {
   "cell_type": "code",
   "execution_count": 8,
   "metadata": {},
   "outputs": [],
   "source": [
    "# Scale the training data\n",
    "scaler = StandardScaler()\n",
    "scaler1=StandardScaler()\n",
    "scaler2=StandardScaler()\n",
    "#Model0\n",
    "X_scaler = scaler.fit(X_train)\n",
    "X_train_scaled = X_scaler.transform(X_train)\n",
    "X_test_scaled = X_scaler.transform(X_test)\n",
    "#model1\n",
    "X_scaler1 = scaler1.fit(X_train1)\n",
    "X_train_scaled1 = X_scaler1.transform(X_train1)\n",
    "X_test_scaled1 = X_scaler1.transform(X_test1)\n",
    "#model2\n",
    "X_scaler2 = scaler2.fit(X_train2)\n",
    "X_train_scaled2 = X_scaler2.transform(X_train2)\n",
    "X_test_scaled2 = X_scaler2.transform(X_test2)"
   ]
  },
  {
   "cell_type": "code",
   "execution_count": 57,
   "metadata": {},
   "outputs": [
    {
     "data": {
      "text/plain": [
       "date\n",
       "2019-02-27     4.355675\n",
       "2018-05-20    18.151337\n",
       "2019-11-11     4.884171\n",
       "2019-08-28     6.465776\n",
       "2017-08-12    14.698171\n",
       "2019-03-07     4.372719\n",
       "2019-01-26     4.284282\n",
       "2017-12-08    27.890580\n",
       "2018-10-25     9.569310\n",
       "2017-12-10    25.732595\n",
       "2019-05-27     8.215588\n",
       "2017-09-09    16.355091\n",
       "2019-09-12     6.233422\n",
       "2019-04-03     5.436370\n",
       "2019-08-27     7.191627\n",
       "2018-04-20    19.575369\n",
       "2019-01-21     4.261066\n",
       "2019-01-19     4.382550\n",
       "2018-07-24    16.627368\n",
       "2017-10-08    12.118436\n",
       "2017-12-02    28.956987\n",
       "2019-07-27     5.909292\n",
       "2017-11-02     9.910972\n",
       "2019-04-12     6.388457\n",
       "2019-06-24     9.292509\n",
       "2019-06-10     8.303607\n",
       "2018-07-28    16.959377\n",
       "2018-04-16    16.082771\n",
       "2019-06-16     8.746616\n",
       "2019-05-15     7.649599\n",
       "                ...    \n",
       "2019-10-18     4.427435\n",
       "2019-03-06     4.328181\n",
       "2018-09-10    11.296787\n",
       "2019-02-23     4.819378\n",
       "2017-12-30    24.737242\n",
       "2018-09-05    11.969564\n",
       "2018-11-10     9.397397\n",
       "2017-10-01    12.811428\n",
       "2017-09-01    22.400641\n",
       "2017-07-28    13.918512\n",
       "2019-10-03     4.633491\n",
       "2019-03-31     4.811781\n",
       "2017-10-19    11.296240\n",
       "2017-12-20    38.863336\n",
       "2019-07-03     7.860736\n",
       "2017-09-06    19.320100\n",
       "2019-04-18     6.330882\n",
       "2018-12-31     4.958184\n",
       "2019-09-04     6.765211\n",
       "2017-10-11    11.416228\n",
       "2017-11-17    17.138002\n",
       "2018-09-02    13.327920\n",
       "2017-11-18    17.762880\n",
       "2019-01-17     4.449319\n",
       "2019-06-21     8.766434\n",
       "2018-05-31    15.249474\n",
       "2017-11-07    13.484366\n",
       "2017-09-03    19.466588\n",
       "2018-11-07     9.591645\n",
       "2019-07-04     7.738778\n",
       "Name: Close, Length: 630, dtype: float64"
      ]
     },
     "execution_count": 57,
     "metadata": {},
     "output_type": "execute_result"
    }
   ],
   "source": [
    "X_train.Close"
   ]
  },
  {
   "cell_type": "code",
   "execution_count": 29,
   "metadata": {},
   "outputs": [
    {
     "name": "stdout",
     "output_type": "stream",
     "text": [
      "Accuracy score (training): 1.000\n",
      "Accuracy score (validation): 0.973\n"
     ]
    }
   ],
   "source": [
    "# Create GradientBoostingClassifier model\n",
    "#Changed from .75 to .25 11/8\n",
    "#on 11/8 .75 gave an accuracy score of .929\n",
    "#model0\n",
    "model = GradientBoostingRegressor(\n",
    "    n_estimators=500,\n",
    "    learning_rate=.25,\n",
    "    max_features=5,\n",
    "    max_depth=3,\n",
    "    random_state=0)\n",
    "\n",
    "# Fit the model\n",
    "model.fit(X_train_scaled,y_train.ravel())\n",
    "\n",
    "# Score the model\n",
    "print(\"Accuracy score (training): {0:.3f}\".format(\n",
    "    model.score(\n",
    "        X_train_scaled,\n",
    "        y_train)))\n",
    "print(\"Accuracy score (validation): {0:.3f}\".format(\n",
    "    model.score(\n",
    "        X_test_scaled,\n",
    "        y_test)))"
   ]
  },
  {
   "cell_type": "code",
   "execution_count": 30,
   "metadata": {},
   "outputs": [
    {
     "name": "stdout",
     "output_type": "stream",
     "text": [
      "Accuracy score (training): 0.998\n",
      "Accuracy score (validation): 0.976\n"
     ]
    }
   ],
   "source": [
    "#model1 - [['FeeMedUSD','TxTfrValMedUSD','Close','IssTotUSD','VtyDayRet30d']]\n",
    "# Create GradientBoostingClassifier model\n",
    "#Changed from 1 to .05 11/8\n",
    "#on 11/8 1 gave an accuracy score of .911\n",
    "model1 = GradientBoostingRegressor(\n",
    "    n_estimators=500,\n",
    "    learning_rate=.05,\n",
    "    max_features=5,\n",
    "    max_depth=3,\n",
    "    random_state=0)\n",
    "\n",
    "# Fit the model\n",
    "model1.fit(X_train_scaled1,y_train1.ravel())\n",
    "\n",
    "# Score the model\n",
    "print(\"Accuracy score (training): {0:.3f}\".format(\n",
    "    model1.score(\n",
    "        X_train_scaled1,\n",
    "        y_train1)))\n",
    "print(\"Accuracy score (validation): {0:.3f}\".format(\n",
    "    model1.score(\n",
    "        X_test_scaled1,\n",
    "        y_test1)))"
   ]
  },
  {
   "cell_type": "code",
   "execution_count": 31,
   "metadata": {},
   "outputs": [
    {
     "name": "stdout",
     "output_type": "stream",
     "text": [
      "Accuracy score (training): 0.998\n",
      "Accuracy score (validation): 0.970\n"
     ]
    }
   ],
   "source": [
    "#model2 - [['FeeMedUSD','TxTfrValMedUSD','IssTotUSD','VtyDayRet30d','TxTfrValMeanNtv']]\n",
    "#Changed from .1 to .05 11/8\n",
    "#on 11/8 .1 gave an accuracy score of .938\n",
    "model2 = GradientBoostingRegressor(\n",
    "    n_estimators=500,\n",
    "    learning_rate=.05,\n",
    "    max_features=5,\n",
    "    max_depth=3,\n",
    "    random_state=0)\n",
    "\n",
    "# Fit the model\n",
    "model2.fit(X_train_scaled2,y_train2.ravel())\n",
    "\n",
    "# Score the model\n",
    "print(\"Accuracy score (training): {0:.3f}\".format(\n",
    "    model2.score(\n",
    "        X_train_scaled2,\n",
    "        y_train2)))\n",
    "print(\"Accuracy score (validation): {0:.3f}\".format(\n",
    "    model2.score(\n",
    "        X_test_scaled2,\n",
    "        y_test2)))"
   ]
  },
  {
   "cell_type": "code",
   "execution_count": 32,
   "metadata": {},
   "outputs": [],
   "source": [
    "# Make predictions\n",
    "#model0\n",
    "predictions = model.predict(X_test_scaled)\n",
    "y_test = y_test.ravel()\n",
    "actual = pd.Series(y_test)\n",
    "\n",
    "#model1\n",
    "predictions1 = model1.predict(X_test_scaled1)\n",
    "y_test1 = y_test1.ravel()\n",
    "actual1 = pd.Series(y_test1)\n",
    "#model2\n",
    "predictions2 = model2.predict(X_test_scaled2)\n",
    "y_test2 = y_test2.ravel()\n",
    "actual2 = pd.Series(y_test2)"
   ]
  },
  {
   "cell_type": "code",
   "execution_count": 33,
   "metadata": {},
   "outputs": [
    {
     "data": {
      "text/html": [
       "<div>\n",
       "<style scoped>\n",
       "    .dataframe tbody tr th:only-of-type {\n",
       "        vertical-align: middle;\n",
       "    }\n",
       "\n",
       "    .dataframe tbody tr th {\n",
       "        vertical-align: top;\n",
       "    }\n",
       "\n",
       "    .dataframe thead th {\n",
       "        text-align: right;\n",
       "    }\n",
       "</style>\n",
       "<table border=\"1\" class=\"dataframe\">\n",
       "  <thead>\n",
       "    <tr style=\"text-align: right;\">\n",
       "      <th></th>\n",
       "      <th>Model0</th>\n",
       "      <th>Model1</th>\n",
       "      <th>Model2</th>\n",
       "      <th>Actual</th>\n",
       "    </tr>\n",
       "  </thead>\n",
       "  <tbody>\n",
       "    <tr>\n",
       "      <th>0</th>\n",
       "      <td>13.685616</td>\n",
       "      <td>14.698044</td>\n",
       "      <td>14.839745</td>\n",
       "      <td>16.541498</td>\n",
       "    </tr>\n",
       "    <tr>\n",
       "      <th>1</th>\n",
       "      <td>3.997667</td>\n",
       "      <td>4.111171</td>\n",
       "      <td>4.291850</td>\n",
       "      <td>4.053677</td>\n",
       "    </tr>\n",
       "    <tr>\n",
       "      <th>2</th>\n",
       "      <td>14.355324</td>\n",
       "      <td>13.734897</td>\n",
       "      <td>13.629051</td>\n",
       "      <td>14.565106</td>\n",
       "    </tr>\n",
       "    <tr>\n",
       "      <th>3</th>\n",
       "      <td>17.652400</td>\n",
       "      <td>18.241251</td>\n",
       "      <td>18.155622</td>\n",
       "      <td>19.896613</td>\n",
       "    </tr>\n",
       "    <tr>\n",
       "      <th>4</th>\n",
       "      <td>21.528565</td>\n",
       "      <td>22.013195</td>\n",
       "      <td>22.357296</td>\n",
       "      <td>18.549426</td>\n",
       "    </tr>\n",
       "  </tbody>\n",
       "</table>\n",
       "</div>"
      ],
      "text/plain": [
       "      Model0     Model1     Model2     Actual\n",
       "0  13.685616  14.698044  14.839745  16.541498\n",
       "1   3.997667   4.111171   4.291850   4.053677\n",
       "2  14.355324  13.734897  13.629051  14.565106\n",
       "3  17.652400  18.241251  18.155622  19.896613\n",
       "4  21.528565  22.013195  22.357296  18.549426"
      ]
     },
     "execution_count": 33,
     "metadata": {},
     "output_type": "execute_result"
    }
   ],
   "source": [
    "pd.DataFrame({'Model0':predictions,'Model1':predictions1,'Model2':predictions2,'Actual': actual}).head()"
   ]
  },
  {
   "cell_type": "code",
   "execution_count": 34,
   "metadata": {},
   "outputs": [
    {
     "data": {
      "text/plain": [
       "(5, 37)"
      ]
     },
     "execution_count": 34,
     "metadata": {},
     "output_type": "execute_result"
    }
   ],
   "source": [
    "X.tail().shape\n"
   ]
  },
  {
   "cell_type": "code",
   "execution_count": 35,
   "metadata": {},
   "outputs": [],
   "source": [
    "X_future = X_scaler.transform(X.tail(1))\n",
    "predictions = model.predict(X_future)\n",
    "\n",
    "X_future1 = X_scaler1.transform(X1.tail(1))\n",
    "predictions1 = model1.predict(X_future1)\n",
    "\n",
    "X_future2 = X_scaler2.transform(X2.tail(1))\n",
    "predictions2 = model2.predict(X_future2)"
   ]
  },
  {
   "cell_type": "code",
   "execution_count": null,
   "metadata": {},
   "outputs": [],
   "source": []
  },
  {
   "cell_type": "code",
   "execution_count": 36,
   "metadata": {},
   "outputs": [],
   "source": [
    "actual=futures['Close'].ravel()\n",
    "dates=futures.reset_index()\n",
    "dates=dates['date'].tail(1).ravel()\n",
    "#Model1\n",
    "actual1=futures1['Close'].ravel()\n",
    "dates1=futures1.reset_index()\n",
    "dates1=dates1['date'].tail(1).ravel()\n",
    "#Model2\n",
    "actual2=futures2['Close'].ravel()\n",
    "dates2=futures2.reset_index()\n",
    "dates2=dates2['date'].tail(1).ravel()"
   ]
  },
  {
   "cell_type": "code",
   "execution_count": 37,
   "metadata": {},
   "outputs": [],
   "source": [
    "test_final=pd.DataFrame({'Model0':predictions,'Model1':predictions1,'Model2':predictions2,'Actual':actual, 'Date':dates})"
   ]
  },
  {
   "cell_type": "code",
   "execution_count": 38,
   "metadata": {},
   "outputs": [
    {
     "data": {
      "text/html": [
       "<div>\n",
       "<style scoped>\n",
       "    .dataframe tbody tr th:only-of-type {\n",
       "        vertical-align: middle;\n",
       "    }\n",
       "\n",
       "    .dataframe tbody tr th {\n",
       "        vertical-align: top;\n",
       "    }\n",
       "\n",
       "    .dataframe thead th {\n",
       "        text-align: right;\n",
       "    }\n",
       "</style>\n",
       "<table border=\"1\" class=\"dataframe\">\n",
       "  <thead>\n",
       "    <tr style=\"text-align: right;\">\n",
       "      <th></th>\n",
       "      <th>Model0</th>\n",
       "      <th>Model1</th>\n",
       "      <th>Model2</th>\n",
       "      <th>Actual</th>\n",
       "      <th>Date</th>\n",
       "    </tr>\n",
       "  </thead>\n",
       "  <tbody>\n",
       "    <tr>\n",
       "      <th>0</th>\n",
       "      <td>4.90677</td>\n",
       "      <td>4.948824</td>\n",
       "      <td>5.023611</td>\n",
       "      <td>4.899531</td>\n",
       "      <td>2019-11-12</td>\n",
       "    </tr>\n",
       "  </tbody>\n",
       "</table>\n",
       "</div>"
      ],
      "text/plain": [
       "    Model0    Model1    Model2    Actual       Date\n",
       "0  4.90677  4.948824  5.023611  4.899531 2019-11-12"
      ]
     },
     "execution_count": 38,
     "metadata": {},
     "output_type": "execute_result"
    }
   ],
   "source": [
    "test_final"
   ]
  },
  {
   "cell_type": "code",
   "execution_count": 53,
   "metadata": {},
   "outputs": [],
   "source": [
    "#Model0\n",
    "real_future = X_scaler.transform(df.tail(1))\n",
    "predictions = model.predict(real_future)\n",
    "#Model1\n",
    "real_future1 = X_scaler1.transform(df1.tail(1))\n",
    "predictions1 = model1.predict(real_future1)\n",
    "#Model2\n",
    "real_future2 = X_scaler2.transform(df2.tail(1).drop('Close',axis=1))\n",
    "predictions2 = model2.predict(real_future2)"
   ]
  },
  {
   "cell_type": "code",
   "execution_count": 54,
   "metadata": {},
   "outputs": [
    {
     "data": {
      "text/plain": [
       "array([5.02003792])"
      ]
     },
     "execution_count": 54,
     "metadata": {},
     "output_type": "execute_result"
    }
   ],
   "source": [
    "predictions"
   ]
  },
  {
   "cell_type": "markdown",
   "metadata": {},
   "source": [
    "Based on my predictions today, (Nov 7th)- I should sell my stock tomorrow (Nov 8th)\n"
   ]
  },
  {
   "cell_type": "code",
   "execution_count": 40,
   "metadata": {},
   "outputs": [],
   "source": [
    "datelist = pd.date_range((pd.datetime.today()), periods=1).tolist()\n",
    "\n",
    "# datelist = pd.date_range((pd.datetime.today()+timedelta(days=-3)), periods=5).tolist()\n",
    "future_dates=[]\n",
    "for date in datelist:\n",
    "    future_dates.append(date.strftime(\"%m-%d-%Y\"))"
   ]
  },
  {
   "cell_type": "code",
   "execution_count": 41,
   "metadata": {},
   "outputs": [],
   "source": [
    "# final=pd.DataFrame({'Date':'11-13','Model0':predictions,'Model1':predictions1,'Model2':predictions2})\n",
    "final=pd.DataFrame({'Date':pd.datetime.today(),'Model0':predictions,'Model1':predictions1,'Model2':predictions2})\n"
   ]
  },
  {
   "cell_type": "code",
   "execution_count": null,
   "metadata": {},
   "outputs": [],
   "source": [
    "\n"
   ]
  },
  {
   "cell_type": "code",
   "execution_count": 42,
   "metadata": {},
   "outputs": [
    {
     "data": {
      "text/html": [
       "<div>\n",
       "<style scoped>\n",
       "    .dataframe tbody tr th:only-of-type {\n",
       "        vertical-align: middle;\n",
       "    }\n",
       "\n",
       "    .dataframe tbody tr th {\n",
       "        vertical-align: top;\n",
       "    }\n",
       "\n",
       "    .dataframe thead th {\n",
       "        text-align: right;\n",
       "    }\n",
       "</style>\n",
       "<table border=\"1\" class=\"dataframe\">\n",
       "  <thead>\n",
       "    <tr style=\"text-align: right;\">\n",
       "      <th></th>\n",
       "      <th>Date</th>\n",
       "      <th>Model0</th>\n",
       "      <th>Model1</th>\n",
       "      <th>Model2</th>\n",
       "    </tr>\n",
       "  </thead>\n",
       "  <tbody>\n",
       "    <tr>\n",
       "      <th>0</th>\n",
       "      <td>2019-11-13 21:11:39.053047</td>\n",
       "      <td>5.020038</td>\n",
       "      <td>4.948824</td>\n",
       "      <td>5.063491</td>\n",
       "    </tr>\n",
       "  </tbody>\n",
       "</table>\n",
       "</div>"
      ],
      "text/plain": [
       "                        Date    Model0    Model1    Model2\n",
       "0 2019-11-13 21:11:39.053047  5.020038  4.948824  5.063491"
      ]
     },
     "execution_count": 42,
     "metadata": {},
     "output_type": "execute_result"
    }
   ],
   "source": [
    "final"
   ]
  },
  {
   "cell_type": "code",
   "execution_count": 43,
   "metadata": {},
   "outputs": [
    {
     "data": {
      "text/plain": [
       "['etc_model.joblib']"
      ]
     },
     "execution_count": 43,
     "metadata": {},
     "output_type": "execute_result"
    }
   ],
   "source": [
    "from joblib import dump, load\n",
    "dump(model, 'etc_model.joblib')"
   ]
  },
  {
   "cell_type": "code",
   "execution_count": 60,
   "metadata": {},
   "outputs": [],
   "source": [
    "model = load('etc_model.joblib')\n",
    "X_scaler = scaler.fit(df)\n",
    "real_future = X_scaler.transform(df.tail(1))\n",
    "predictions = model.predict(real_future)"
   ]
  },
  {
   "cell_type": "code",
   "execution_count": 61,
   "metadata": {},
   "outputs": [
    {
     "data": {
      "text/plain": [
       "array([4.43419529])"
      ]
     },
     "execution_count": 61,
     "metadata": {},
     "output_type": "execute_result"
    }
   ],
   "source": [
    "predictions"
   ]
  },
  {
   "cell_type": "code",
   "execution_count": null,
   "metadata": {},
   "outputs": [],
   "source": []
  }
 ],
 "metadata": {
  "kernelspec": {
   "display_name": "testgv",
   "language": "python",
   "name": "testgv"
  },
  "language_info": {
   "codemirror_mode": {
    "name": "ipython",
    "version": 3
   },
   "file_extension": ".py",
   "mimetype": "text/x-python",
   "name": "python",
   "nbconvert_exporter": "python",
   "pygments_lexer": "ipython3",
   "version": "3.7.3"
  }
 },
 "nbformat": 4,
 "nbformat_minor": 2
}
